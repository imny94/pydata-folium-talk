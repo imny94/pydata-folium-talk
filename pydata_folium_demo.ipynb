{
 "cells": [
  {
   "cell_type": "markdown",
   "metadata": {},
   "source": [
    "# Foodies Rejoice! Visualising Hawker Centre Locations in Singapore\n",
    "\n",
    "This notebook is a short preview into how one can visualise geographical data using folium that is prepared for the PyData Singapore Meetup - Visualising and Analyzing Big Data - October 2019.\n",
    "\n",
    "The data used in this notebook is publicly available, and can be obtained from: https://data.gov.sg/dataset/hawker-centres"
   ]
  },
  {
   "cell_type": "markdown",
   "metadata": {},
   "source": [
    "## Importing all our dependencies"
   ]
  },
  {
   "cell_type": "code",
   "execution_count": null,
   "metadata": {},
   "outputs": [],
   "source": [
    "import folium\n",
    "from folium import plugins\n",
    "from dataclasses import dataclass, field\n",
    "from typing import List\n",
    "import base64\n",
    "import json\n",
    "import requests"
   ]
  },
  {
   "cell_type": "markdown",
   "metadata": {},
   "source": [
    "## Defining the names of the files we will use\n",
    "\n",
    "This assumes that the geojson files have been downloaded, and unzipped into a folder named `hawker-centres`, with the file `hawker-centres-geojson.geojson` inside. If you have not downloaded the dataset, download it first :)"
   ]
  },
  {
   "cell_type": "code",
   "execution_count": null,
   "metadata": {},
   "outputs": [],
   "source": [
    "hawker_centre_geojson = \"hawker-centres/hawker-centres-geojson.geojson\"\n",
    "truncated_hawker_centre_geojson = \"hawker-centres/hawker-centres-truncated-geojson.geojson\""
   ]
  },
  {
   "cell_type": "markdown",
   "metadata": {},
   "source": [
    "## Quick peek at our data"
   ]
  },
  {
   "cell_type": "code",
   "execution_count": null,
   "metadata": {},
   "outputs": [],
   "source": [
    "def get_json_data(filename):\n",
    "    with open(filename, \"r\") as f:\n",
    "        return json.load(f)\n",
    "        \n",
    "get_json_data(truncated_hawker_centre_geojson)"
   ]
  },
  {
   "cell_type": "markdown",
   "metadata": {},
   "source": [
    "## Helper Method\n",
    "\n",
    "Get the all the Coordinates to plot in a file. (This is mainly used to dynamically fit the maps to all the coordinates to be plotted, more on this later)"
   ]
  },
  {
   "cell_type": "code",
   "execution_count": null,
   "metadata": {},
   "outputs": [],
   "source": [
    "def get_all_coords_in_file(filename):\n",
    "    features = get_json_data(filename)[\"features\"]\n",
    "    all_coords = [feature[\"geometry\"][\"coordinates\"][:2][::-1] for feature in features]\n",
    "    return all_coords"
   ]
  },
  {
   "cell_type": "markdown",
   "metadata": {},
   "source": [
    "## Brief introduction to Folium\n",
    "\n",
    "In folium, maps are hierarchical objects, you make a base map and then you add new items onto that object (make a canvas and add things to the canvas)"
   ]
  },
  {
   "cell_type": "code",
   "execution_count": null,
   "metadata": {},
   "outputs": [],
   "source": [
    "def intro_to_folium():\n",
    "    viz_map = folium.Map(\n",
    "        location=[45.372, -121.6972],\n",
    "        zoom_start=12,\n",
    "        tiles='Stamen Terrain'\n",
    "    )\n",
    "\n",
    "    tooltip = 'Click me!'\n",
    "\n",
    "    folium.Marker([45.3288, -121.6625], popup='<i>Mt. Hood Meadows</i>', tooltip=tooltip).add_to(viz_map)\n",
    "    folium.Marker([45.3311, -121.7113], popup='<b>Timberline Lodge</b>', tooltip=tooltip).add_to(viz_map)\n",
    "\n",
    "    return viz_map"
   ]
  },
  {
   "cell_type": "code",
   "execution_count": null,
   "metadata": {},
   "outputs": [],
   "source": [
    "intro_to_folium()"
   ]
  },
  {
   "cell_type": "markdown",
   "metadata": {},
   "source": [
    "## Visualising GeoJson Data\n",
    "\n",
    "Visualisation of geoJson data in Folium is easy!"
   ]
  },
  {
   "cell_type": "code",
   "execution_count": null,
   "metadata": {},
   "outputs": [],
   "source": [
    "def visualize_geojson_simple(filename, layer_name):\n",
    "    viz_map = folium.Map()\n",
    "\n",
    "    folium.GeoJson(\n",
    "        filename,\n",
    "        name=layer_name\n",
    "    ).add_to(viz_map)\n",
    "\n",
    "    bounding_coords = get_all_coords_in_file(filename)\n",
    "    viz_map.fit_bounds(bounding_coords)\n",
    "    folium.LayerControl().add_to(viz_map)\n",
    "    return viz_map"
   ]
  },
  {
   "cell_type": "code",
   "execution_count": null,
   "metadata": {},
   "outputs": [],
   "source": [
    "visualize_geojson_simple(hawker_centre_geojson, \"hawker centre locations\")"
   ]
  },
  {
   "cell_type": "code",
   "execution_count": null,
   "metadata": {},
   "outputs": [],
   "source": [
    "@dataclass\n",
    "class Marker:\n",
    "    lat: float\n",
    "    lon: float\n",
    "    text: str\n",
    "    image: List[str]\n",
    "    coord: List[float] = field(init=False)\n",
    "        \n",
    "    def __post_init__(self):\n",
    "        self.coord = [self.lat, self.lon]"
   ]
  },
  {
   "cell_type": "code",
   "execution_count": null,
   "metadata": {},
   "outputs": [],
   "source": [
    "def get_markers_from_file(filename):\n",
    "    markers = []\n",
    "    with open(filename, \"r\") as f:\n",
    "        features = json.load(f)[\"features\"]\n",
    "        for feature in features:\n",
    "            coords = feature[\"geometry\"][\"coordinates\"][:2][::-1]\n",
    "            name = feature[\"properties\"][\"Name\"]\n",
    "            description = feature[\"properties\"][\"Description\"]\n",
    "            markers.append(Marker(coords[0], coords[1], f\"Name: {name} <br><br>Description: {description}\", []))\n",
    "\n",
    "    return markers\n",
    "\n",
    "def visualize_data_with_custom_marker(filename, layer, viz_map=None):\n",
    "    markers = get_markers_from_file(filename)\n",
    "\n",
    "    for marker in markers:\n",
    "        folium.Marker(\n",
    "            location=marker.coord,\n",
    "            popup=folium.Popup(marker.text, max_width=600, min_width=600)\n",
    "        ).add_to(layer)\n",
    "\n",
    "    if viz_map is None:\n",
    "        viz_map = folium.Map()\n",
    "    \n",
    "    viz_map.add_child(layer)\n",
    "    bounding_coords = get_all_coords_in_file(filename)\n",
    "    viz_map.fit_bounds(bounding_coords)\n",
    "    folium.LayerControl().add_to(viz_map)\n",
    "    \n",
    "    return viz_map"
   ]
  },
  {
   "cell_type": "code",
   "execution_count": null,
   "metadata": {},
   "outputs": [],
   "source": [
    "visualize_data_with_custom_marker(hawker_centre_geojson, folium.FeatureGroup(\"hawker centre locations\"))"
   ]
  },
  {
   "cell_type": "code",
   "execution_count": null,
   "metadata": {},
   "outputs": [],
   "source": [
    "visualize_data_with_custom_marker(hawker_centre_geojson, plugins.MarkerCluster(name=\"hawker centre locations\"))"
   ]
  },
  {
   "cell_type": "code",
   "execution_count": null,
   "metadata": {},
   "outputs": [],
   "source": []
  },
  {
   "cell_type": "code",
   "execution_count": null,
   "metadata": {},
   "outputs": [],
   "source": []
  }
 ],
 "metadata": {
  "kernelspec": {
   "display_name": "Python 3",
   "language": "python",
   "name": "python3"
  },
  "language_info": {
   "codemirror_mode": {
    "name": "ipython",
    "version": 3
   },
   "file_extension": ".py",
   "mimetype": "text/x-python",
   "name": "python",
   "nbconvert_exporter": "python",
   "pygments_lexer": "ipython3",
   "version": "3.7.4"
  }
 },
 "nbformat": 4,
 "nbformat_minor": 2
}
